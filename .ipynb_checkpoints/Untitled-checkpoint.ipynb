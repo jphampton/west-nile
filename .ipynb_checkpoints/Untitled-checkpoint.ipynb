{
 "cells": [
  {
   "cell_type": "code",
   "execution_count": 271,
   "metadata": {},
   "outputs": [],
   "source": [
    "# Import libraries\n",
    "import pandas as pd\n",
    "import numpy as np\n",
    "import matplotlib.pyplot as plt\n",
    "import seaborn as sns\n",
    "import scikitplot as skplt\n",
    "from sklearn.model_selection import train_test_split, GridSearchCV\n",
    "from sklearn.preprocessing import StandardScaler\n",
    "from sklearn.linear_model import LogisticRegression\n",
    "from sklearn import metrics\n",
    "from imblearn.combine import SMOTEENN\n",
    "from keras.models import Sequential\n",
    "from keras.layers import Dense, Dropout, Flatten\n",
    "from keras.layers import Convolution2D, MaxPooling2D, Convolution1D, MaxPooling1D\n",
    "from keras.utils import to_categorical\n",
    "\n",
    "plt.style.use('fivethirtyeight')\n",
    "\n",
    "%config InlineBackend.figure_format = 'retina'\n",
    "%matplotlib inline"
   ]
  },
  {
   "cell_type": "code",
   "execution_count": 339,
   "metadata": {},
   "outputs": [],
   "source": [
    "# Load data\n",
    "train = pd.read_csv('feat_train.csv')\n",
    "test = pd.read_csv('feat_test.csv')\n",
    "spray = pd.read_csv('feat_spray.csv')"
   ]
  },
  {
   "cell_type": "code",
   "execution_count": null,
   "metadata": {},
   "outputs": [],
   "source": []
  },
  {
   "cell_type": "code",
   "execution_count": 340,
   "metadata": {},
   "outputs": [],
   "source": [
    "# Define X and y\n",
    "X = train.drop('WnvPresent', axis = 1)\n",
    "y = train['WnvPresent']"
   ]
  },
  {
   "cell_type": "code",
   "execution_count": 341,
   "metadata": {},
   "outputs": [],
   "source": [
    "# Convert Year and Month to Dummies\n",
    "X = pd.get_dummies(X, columns = ['Month', 'Trap'])"
   ]
  },
  {
   "cell_type": "code",
   "execution_count": 342,
   "metadata": {},
   "outputs": [
    {
     "data": {
      "text/plain": [
       "(8453, 170)"
      ]
     },
     "execution_count": 342,
     "metadata": {},
     "output_type": "execute_result"
    }
   ],
   "source": [
    "X.shape"
   ]
  },
  {
   "cell_type": "code",
   "execution_count": 343,
   "metadata": {},
   "outputs": [],
   "source": [
    "# Use SMOTE method to balance classes\n",
    "sme = SMOTEENN()\n",
    "X_res, y_res = sme.fit_sample(X, y)"
   ]
  },
  {
   "cell_type": "code",
   "execution_count": 344,
   "metadata": {},
   "outputs": [],
   "source": [
    "X_test_kaggle = pd.get_dummies(test, columns = ['Month', 'Trap'])\n",
    "X_test_kaggle.drop('WnvPresent', axis = 1, inplace = True)\n",
    "_, X_test_kaggle = leveller(X, X_test_kaggle)"
   ]
  },
  {
   "cell_type": "markdown",
   "metadata": {},
   "source": [
    "Logistic Regression"
   ]
  },
  {
   "cell_type": "code",
   "execution_count": 345,
   "metadata": {},
   "outputs": [],
   "source": [
    "# Train test split and standardize data\n",
    "X_train, X_test, y_train, y_test = train_test_split(X_res, y_res, random_state = 42)\n",
    "\n",
    "ss = StandardScaler()\n",
    "X_train = ss.fit_transform(X_train)\n",
    "X_test = ss.transform(X_test)"
   ]
  },
  {
   "cell_type": "code",
   "execution_count": 346,
   "metadata": {},
   "outputs": [],
   "source": [
    "# Kaggle Submission preprocessing \n",
    "X_test_kaggle = ss.transform(X_test_kaggle)"
   ]
  },
  {
   "cell_type": "code",
   "execution_count": 347,
   "metadata": {},
   "outputs": [
    {
     "data": {
      "text/plain": [
       "(0.9030878364281244, {'C': 0.5, 'penalty': 'l1'})"
      ]
     },
     "execution_count": 347,
     "metadata": {},
     "output_type": "execute_result"
    }
   ],
   "source": [
    "# Gridsearch on logistic regression model above\n",
    "lr_params = {'penalty':['l1', 'l2'], \n",
    "             'C': [0.2, 0.3, 0.35, 0.5]}\n",
    "gs = GridSearchCV(LogisticRegression(), param_grid = lr_params)\n",
    "gs.fit(X_train, y_train)\n",
    "\n",
    "# Results \n",
    "gs.best_score_, gs.best_params_"
   ]
  },
  {
   "cell_type": "code",
   "execution_count": 348,
   "metadata": {},
   "outputs": [
    {
     "data": {
      "text/plain": [
       "0.9001877346683355"
      ]
     },
     "execution_count": 348,
     "metadata": {},
     "output_type": "execute_result"
    }
   ],
   "source": [
    "# Gridsearch test accuracy score\n",
    "gs.score(X_test, y_test)"
   ]
  },
  {
   "cell_type": "code",
   "execution_count": 349,
   "metadata": {},
   "outputs": [
    {
     "data": {
      "text/plain": [
       "0.8860398553129354"
      ]
     },
     "execution_count": 349,
     "metadata": {},
     "output_type": "execute_result"
    }
   ],
   "source": [
    "# Evaluate gridsearched model with AUC-ROC score\n",
    "y_score = gs.predict(X_test)\n",
    "metrics.roc_auc_score(y_test, y_score)"
   ]
  },
  {
   "cell_type": "code",
   "execution_count": 350,
   "metadata": {},
   "outputs": [],
   "source": [
    "# Kaggle predictions dataframe and csv file\n",
    "submission = pd.DataFrame()\n",
    "submission['WnvPresent'] = gs.predict(X_test_kaggle)\n",
    "submission['Id'] = submission.index + 1\n",
    "submission[['Id', 'WnvPresent']].to_csv('submission_logreg.csv', index = False)"
   ]
  },
  {
   "cell_type": "code",
   "execution_count": null,
   "metadata": {},
   "outputs": [],
   "source": []
  },
  {
   "cell_type": "markdown",
   "metadata": {},
   "source": [
    "### CNN "
   ]
  },
  {
   "cell_type": "code",
   "execution_count": 351,
   "metadata": {},
   "outputs": [],
   "source": [
    "# Import\n",
    "from keras.models import Sequential\n",
    "from keras.layers import Dense, Dropout, Flatten\n",
    "from keras.layers import Convolution2D, MaxPooling2D, Convolution1D, MaxPooling1D\n",
    "from keras.utils import to_categorical\n",
    "from keras import regularizers"
   ]
  },
  {
   "cell_type": "code",
   "execution_count": 352,
   "metadata": {},
   "outputs": [],
   "source": [
    "# Train test split and standardize data\n",
    "X_train, X_test, y_train, y_test = train_test_split(X_res, y_res, random_state = 42)\n",
    "ss = StandardScaler()\n",
    "X_train = ss.fit_transform(X_train)\n",
    "X_test = ss.transform(X_test)"
   ]
  },
  {
   "cell_type": "code",
   "execution_count": 353,
   "metadata": {},
   "outputs": [],
   "source": [
    "# Kaggle Submission\n",
    "X_test_kaggle = pd.get_dummies(test, columns = ['Month'])\n",
    "X_test_kaggle.drop('WnvPresent', axis = 1, inplace = True)\n",
    "_, X_test_kaggle = leveller(X, X_test_kaggle)\n",
    "X_test_kaggle = ss.transform(X_test_kaggle)"
   ]
  },
  {
   "cell_type": "code",
   "execution_count": 354,
   "metadata": {},
   "outputs": [],
   "source": [
    "X_test_kaggle = X_test_kaggle.reshape(X_test_kaggle.shape[0], X_test_kaggle.shape[1], 1)\n",
    "X_test_kaggle = X_test_kaggle.astype('float32')"
   ]
  },
  {
   "cell_type": "code",
   "execution_count": 355,
   "metadata": {},
   "outputs": [],
   "source": [
    "# Reshape our NumPy array \n",
    "X_train = X_train.reshape(X_train.shape[0], X_train.shape[1], 1)\n",
    "X_test = X_test.reshape(X_test.shape[0], X_test.shape[1], 1)\n",
    "\n",
    "# Convert dtype from int to float.\n",
    "X_train = X_train.astype('float32')\n",
    "X_test = X_test.astype('float32')"
   ]
  },
  {
   "cell_type": "code",
   "execution_count": 356,
   "metadata": {},
   "outputs": [
    {
     "data": {
      "text/plain": [
       "170"
      ]
     },
     "execution_count": 356,
     "metadata": {},
     "output_type": "execute_result"
    }
   ],
   "source": [
    "X_train.shape[1]"
   ]
  },
  {
   "cell_type": "code",
   "execution_count": 357,
   "metadata": {},
   "outputs": [],
   "source": [
    "# Preprocess Y data\n",
    "y_train = to_categorical(y_train, 2)\n",
    "Y_test = to_categorical(y_test, 2 )"
   ]
  },
  {
   "cell_type": "code",
   "execution_count": 358,
   "metadata": {},
   "outputs": [],
   "source": [
    "# Define Model Architecture\n",
    "model = Sequential()\n",
    "model.add(Convolution1D(filters=10, kernel_size=3, activation=\"relu\", input_shape = (X_train.shape[1],1)))\n",
    "model.add(MaxPooling1D(pool_size = 2)) \n",
    "model.add(Convolution1D(filters=20, kernel_size=3, activation=\"relu\"))\n",
    "model.add(MaxPooling1D(pool_size = 2)) \n",
    "model.add(Convolution1D(filters=30, kernel_size=3, activation=\"relu\"))\n",
    "model.add(MaxPooling1D(pool_size = 2)) \n",
    "model.add(Dropout(0.5))\n",
    "model.add(Flatten())\n",
    "model.add(Dense(170, activation = 'relu', kernel_regularizer=regularizers.l2(0.1))) \n",
    "model.add(Dropout(0.5))\n",
    "model.add(Dense(20, activation = 'relu', kernel_regularizer=regularizers.l2(0.1))) \n",
    "model.add(Dropout(0.5))\n",
    "model.add(Dense(2, activation = 'sigmoid'))\n",
    "\n",
    "# Compile\n",
    "model.compile(loss = 'categorical_crossentropy', optimizer = 'adam', metrics = ['accuracy'])"
   ]
  },
  {
   "cell_type": "code",
   "execution_count": 359,
   "metadata": {},
   "outputs": [
    {
     "name": "stdout",
     "output_type": "stream",
     "text": [
      "Epoch 1/30\n",
      "9586/9586 [==============================] - 4s 457us/step - loss: 3.5834 - acc: 0.6224\n",
      "Epoch 2/30\n",
      "9586/9586 [==============================] - 3s 264us/step - loss: 0.6504 - acc: 0.6973\n",
      "Epoch 3/30\n",
      "9586/9586 [==============================] - 2s 229us/step - loss: 0.5315 - acc: 0.8186\n",
      "Epoch 4/30\n",
      "9586/9586 [==============================] - 2s 244us/step - loss: 0.4742 - acc: 0.8424\n",
      "Epoch 5/30\n",
      "9586/9586 [==============================] - 2s 230us/step - loss: 0.4300 - acc: 0.8590\n",
      "Epoch 6/30\n",
      "9586/9586 [==============================] - 2s 228us/step - loss: 0.4071 - acc: 0.8831\n",
      "Epoch 7/30\n",
      "9586/9586 [==============================] - 2s 238us/step - loss: 0.3936 - acc: 0.9044\n",
      "Epoch 8/30\n",
      "9586/9586 [==============================] - 2s 237us/step - loss: 0.3719 - acc: 0.9135\n",
      "Epoch 9/30\n",
      "9586/9586 [==============================] - 2s 254us/step - loss: 0.3542 - acc: 0.9181\n",
      "Epoch 10/30\n",
      "9586/9586 [==============================] - 2s 256us/step - loss: 0.3585 - acc: 0.9173\n",
      "Epoch 11/30\n",
      "9586/9586 [==============================] - 2s 237us/step - loss: 0.3384 - acc: 0.9275\n",
      "Epoch 12/30\n",
      "9586/9586 [==============================] - 2s 235us/step - loss: 0.3278 - acc: 0.9272\n",
      "Epoch 13/30\n",
      "9586/9586 [==============================] - 2s 229us/step - loss: 0.3210 - acc: 0.9317\n",
      "Epoch 14/30\n",
      "9586/9586 [==============================] - 2s 228us/step - loss: 0.3190 - acc: 0.9311\n",
      "Epoch 15/30\n",
      "9586/9586 [==============================] - 2s 234us/step - loss: 0.2904 - acc: 0.9392\n",
      "Epoch 16/30\n",
      "9586/9586 [==============================] - 2s 230us/step - loss: 0.2987 - acc: 0.9392\n",
      "Epoch 17/30\n",
      "9586/9586 [==============================] - 2s 229us/step - loss: 0.2876 - acc: 0.9435\n",
      "Epoch 18/30\n",
      "9586/9586 [==============================] - 2s 228us/step - loss: 0.2852 - acc: 0.9392\n",
      "Epoch 19/30\n",
      "9586/9586 [==============================] - 2s 228us/step - loss: 0.2752 - acc: 0.9447\n",
      "Epoch 20/30\n",
      "9586/9586 [==============================] - 2s 227us/step - loss: 0.2671 - acc: 0.9482\n",
      "Epoch 21/30\n",
      "9586/9586 [==============================] - 2s 224us/step - loss: 0.2688 - acc: 0.9502\n",
      "Epoch 22/30\n",
      "9586/9586 [==============================] - 2s 226us/step - loss: 0.2617 - acc: 0.9474\n",
      "Epoch 23/30\n",
      "9586/9586 [==============================] - 2s 226us/step - loss: 0.2563 - acc: 0.9476\n",
      "Epoch 24/30\n",
      "9586/9586 [==============================] - 2s 228us/step - loss: 0.2608 - acc: 0.9476\n",
      "Epoch 25/30\n",
      "9586/9586 [==============================] - 2s 234us/step - loss: 0.2492 - acc: 0.9516\n",
      "Epoch 26/30\n",
      "9586/9586 [==============================] - 3s 269us/step - loss: 0.2452 - acc: 0.9516\n",
      "Epoch 27/30\n",
      "9586/9586 [==============================] - 3s 291us/step - loss: 0.2446 - acc: 0.9536\n",
      "Epoch 28/30\n",
      "9586/9586 [==============================] - 3s 289us/step - loss: 0.2417 - acc: 0.9519\n",
      "Epoch 29/30\n",
      "9586/9586 [==============================] - 3s 285us/step - loss: 0.2501 - acc: 0.9498\n",
      "Epoch 30/30\n",
      "9586/9586 [==============================] - 3s 261us/step - loss: 0.2372 - acc: 0.9537\n"
     ]
    },
    {
     "data": {
      "text/plain": [
       "<keras.callbacks.History at 0x1a39d0d7b8>"
      ]
     },
     "execution_count": 359,
     "metadata": {},
     "output_type": "execute_result"
    }
   ],
   "source": [
    "# Fit \n",
    "model.fit(X_train, y_train, batch_size = 32, epochs = 30, verbose = 1)"
   ]
  },
  {
   "cell_type": "code",
   "execution_count": 360,
   "metadata": {},
   "outputs": [
    {
     "name": "stdout",
     "output_type": "stream",
     "text": [
      "3196/3196 [==============================] - 1s 241us/step\n",
      "loss: 0.1927209116788919\n",
      "acc: 0.9702753439564281\n"
     ]
    }
   ],
   "source": [
    "score = model.evaluate(X_test, Y_test, verbose = 1)\n",
    "labels = model.metrics_names\n",
    "print(str(labels[0]) + \": \" + str(score[0]))\n",
    "print(str(labels[1]) + \": \" + str(score[1]))"
   ]
  },
  {
   "cell_type": "code",
   "execution_count": 361,
   "metadata": {},
   "outputs": [
    {
     "name": "stdout",
     "output_type": "stream",
     "text": [
      "_________________________________________________________________\n",
      "Layer (type)                 Output Shape              Param #   \n",
      "=================================================================\n",
      "conv1d_52 (Conv1D)           (None, 168, 10)           40        \n",
      "_________________________________________________________________\n",
      "max_pooling1d_52 (MaxPooling (None, 84, 10)            0         \n",
      "_________________________________________________________________\n",
      "conv1d_53 (Conv1D)           (None, 82, 20)            620       \n",
      "_________________________________________________________________\n",
      "max_pooling1d_53 (MaxPooling (None, 41, 20)            0         \n",
      "_________________________________________________________________\n",
      "conv1d_54 (Conv1D)           (None, 39, 30)            1830      \n",
      "_________________________________________________________________\n",
      "max_pooling1d_54 (MaxPooling (None, 19, 30)            0         \n",
      "_________________________________________________________________\n",
      "dropout_43 (Dropout)         (None, 19, 30)            0         \n",
      "_________________________________________________________________\n",
      "flatten_18 (Flatten)         (None, 570)               0         \n",
      "_________________________________________________________________\n",
      "dense_42 (Dense)             (None, 170)               97070     \n",
      "_________________________________________________________________\n",
      "dropout_44 (Dropout)         (None, 170)               0         \n",
      "_________________________________________________________________\n",
      "dense_43 (Dense)             (None, 20)                3420      \n",
      "_________________________________________________________________\n",
      "dropout_45 (Dropout)         (None, 20)                0         \n",
      "_________________________________________________________________\n",
      "dense_44 (Dense)             (None, 2)                 42        \n",
      "=================================================================\n",
      "Total params: 103,022\n",
      "Trainable params: 103,022\n",
      "Non-trainable params: 0\n",
      "_________________________________________________________________\n"
     ]
    }
   ],
   "source": [
    "# CNN model summary \n",
    "model.summary()"
   ]
  },
  {
   "cell_type": "code",
   "execution_count": 362,
   "metadata": {},
   "outputs": [
    {
     "data": {
      "text/plain": [
       "0.9948339085418465"
      ]
     },
     "execution_count": 362,
     "metadata": {},
     "output_type": "execute_result"
    }
   ],
   "source": [
    "# Evaluate model with AUC-ROC score\n",
    "y_score = model.predict(X_test)\n",
    "metrics.roc_auc_score(Y_test, y_score)"
   ]
  },
  {
   "cell_type": "code",
   "execution_count": 363,
   "metadata": {},
   "outputs": [
    {
     "data": {
      "image/png": "[encoded data removed]",
      "text/plain": [
       "<matplotlib.figure.Figure at 0x1a39e8b6d8>"
      ]
     },
     "metadata": {
      "image/png": {
       "height": 332,
       "width": 363
      }
     },
     "output_type": "display_data"
    }
   ],
   "source": [
    "# AUC - ROC Plot \n",
    "y_probs = model.predict_proba(X_test)[:, 1]\n",
    "fpr, tpr, thresholds = metrics.roc_curve(y_test, y_probs)\n",
    "\n",
    "fig = plt.figure(figsize = (5,5))\n",
    "plt.plot(fpr, tpr)\n",
    "\n",
    "# Labels\n",
    "plt.xlabel('Specificity')\n",
    "plt.ylabel('Sensitivity')\n",
    "plt.title('ROC curve');"
   ]
  },
  {
   "cell_type": "code",
   "execution_count": null,
   "metadata": {},
   "outputs": [],
   "source": []
  },
  {
   "cell_type": "code",
   "execution_count": 297,
   "metadata": {},
   "outputs": [],
   "source": [
    "# Define function to ensure equal columns in the train and test datasets\n",
    "def leveller(train, test):\n",
    "    tr_features = set(train.columns)\n",
    "    te_features = set(test.columns)\n",
    "    for missing_col in tr_features - te_features:\n",
    "        test[missing_col] = 0\n",
    "    return train, test[train.columns]"
   ]
  },
  {
   "cell_type": "code",
   "execution_count": 364,
   "metadata": {},
   "outputs": [],
   "source": [
    "# Kaggle predictions dataframe and csv file\n",
    "submission = pd.DataFrame()\n",
    "submission['WnvPresent'] = model.predict_classes(X_test_kaggle)\n",
    "submission['Id'] = submission.index + 1\n",
    "submission[['Id', 'WnvPresent']].to_csv('submission_cnn.csv', index = False)"
   ]
  },
  {
   "cell_type": "code",
   "execution_count": null,
   "metadata": {},
   "outputs": [],
   "source": []
  }
 ],
 "metadata": {
  "kernelspec": {
   "display_name": "Python [conda env:anaconda3]",
   "language": "python",
   "name": "conda-env-anaconda3-py"
  },
  "language_info": {
   "codemirror_mode": {
    "name": "ipython",
    "version": 3
   },
   "file_extension": ".py",
   "mimetype": "text/x-python",
   "name": "python",
   "nbconvert_exporter": "python",
   "pygments_lexer": "ipython3",
   "version": "3.6.4"
  }
 },
 "nbformat": 4,
 "nbformat_minor": 2
}
