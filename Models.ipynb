{
 "cells": [
  {
   "cell_type": "markdown",
   "metadata": {},
   "source": [
    "# Modeling"
   ]
  },
  {
   "cell_type": "code",
   "execution_count": 30,
   "metadata": {},
   "outputs": [
    {
     "name": "stderr",
     "output_type": "stream",
     "text": [
      "/anaconda3/lib/python3.6/site-packages/h5py/__init__.py:36: FutureWarning: Conversion of the second argument of issubdtype from `float` to `np.floating` is deprecated. In future, it will be treated as `np.float64 == np.dtype(float).type`.\n",
      "  from ._conv import register_converters as _register_converters\n",
      "Using TensorFlow backend.\n"
     ]
    },
    {
     "name": "stdout",
     "output_type": "stream",
     "text": [
      "Couldn't import dot_parser, loading of dot files will not be possible.\n"
     ]
    }
   ],
   "source": [
    "# Import libraries\n",
    "import pandas as pd\n",
    "import numpy as np\n",
    "import matplotlib.pyplot as plt\n",
    "import seaborn as sns\n",
    "import scikitplot as skplt\n",
    "from sklearn.model_selection import train_test_split, GridSearchCV\n",
    "from sklearn.preprocessing import StandardScaler\n",
    "from sklearn.linear_model import LogisticRegression\n",
    "from sklearn import metrics\n",
    "from imblearn.combine import SMOTEENN\n",
    "from keras.models import Sequential\n",
    "from keras.layers import Dense, Dropout, Flatten\n",
    "from keras.layers import Convolution2D, MaxPooling2D, Convolution1D, MaxPooling1D\n",
    "from keras.utils import to_categorical\n",
    "\n",
    "plt.style.use('fivethirtyeight')\n",
    "\n",
    "%config InlineBackend.figure_format = 'retina'\n",
    "%matplotlib inline"
   ]
  },
  {
   "cell_type": "code",
   "execution_count": 3,
   "metadata": {},
   "outputs": [],
   "source": [
    "# Load data\n",
    "train = pd.read_csv('feat_train.csv')\n",
    "test = pd.read_csv('feat_test.csv')\n",
    "spray = pd.read_csv('feat_spray.csv')"
   ]
  },
  {
   "cell_type": "markdown",
   "metadata": {},
   "source": [
    "#### Balance Classes"
   ]
  },
  {
   "cell_type": "markdown",
   "metadata": {},
   "source": [
    "Since our target variable only makes up for 5% of the data, we will need to artificially balance the classes so that our models perform better. We want to use a combination of under and over sampling, so we will use the SMOTE method to accomplish this. "
   ]
  },
  {
   "cell_type": "code",
   "execution_count": 4,
   "metadata": {},
   "outputs": [],
   "source": [
    "# Define X and y\n",
    "X = train.drop('WnvPresent', axis = 1)\n",
    "y = train['WnvPresent']"
   ]
  },
  {
   "cell_type": "code",
   "execution_count": 5,
   "metadata": {},
   "outputs": [],
   "source": [
    "# Convert Year and Month to Dummies\n",
    "X = pd.get_dummies(X, columns = ['Year','Month'])"
   ]
  },
  {
   "cell_type": "code",
   "execution_count": 6,
   "metadata": {},
   "outputs": [],
   "source": [
    "# Use SMOTE method to balance classes\n",
    "sme = SMOTEENN()\n",
    "X_res, y_res = sme.fit_sample(X, y)"
   ]
  },
  {
   "cell_type": "code",
   "execution_count": 7,
   "metadata": {},
   "outputs": [
    {
     "data": {
      "text/plain": [
       "1    0.505637\n",
       "0    0.494363\n",
       "dtype: float64"
      ]
     },
     "execution_count": 7,
     "metadata": {},
     "output_type": "execute_result"
    }
   ],
   "source": [
    "# Check class balance \n",
    "pd.Series(y_res).value_counts(normalize = True)"
   ]
  },
  {
   "cell_type": "markdown",
   "metadata": {},
   "source": [
    "With the balanced data, the baseline accuracy score to beat is 50%"
   ]
  },
  {
   "cell_type": "markdown",
   "metadata": {},
   "source": [
    "#### Logistic Regression"
   ]
  },
  {
   "cell_type": "code",
   "execution_count": 19,
   "metadata": {},
   "outputs": [],
   "source": [
    "# Train test split and standardize data\n",
    "X_train, X_test, y_train, y_test = train_test_split(X_res, y_res, random_state = 42)\n",
    "\n",
    "ss = StandardScaler()\n",
    "X_train = ss.fit_transform(X_train)\n",
    "X_test = ss.transform(X_test)"
   ]
  },
  {
   "cell_type": "code",
   "execution_count": 20,
   "metadata": {},
   "outputs": [
    {
     "data": {
      "text/plain": [
       "(0.8232287804389218, 0.806131650135257)"
      ]
     },
     "execution_count": 20,
     "metadata": {},
     "output_type": "execute_result"
    }
   ],
   "source": [
    "# Fit model and accuracy score\n",
    "logreg = LogisticRegression()\n",
    "model_logreg = logreg.fit(X_train, y_train)\n",
    "model_logreg.score(X_train, y_train), model_logreg.score(X_test, y_test)"
   ]
  },
  {
   "cell_type": "code",
   "execution_count": 21,
   "metadata": {},
   "outputs": [
    {
     "data": {
      "text/plain": [
       "0.8062692702980472"
      ]
     },
     "execution_count": 21,
     "metadata": {},
     "output_type": "execute_result"
    }
   ],
   "source": [
    "# Evaluate model with AUC-ROC score\n",
    "y_score = model_logreg.predict(X_test)\n",
    "metrics.roc_auc_score(y_test, y_score)"
   ]
  },
  {
   "cell_type": "code",
   "execution_count": 22,
   "metadata": {},
   "outputs": [
    {
     "data": {
      "text/plain": [
       "(0.8220262551357852, {'C': 0.35, 'penalty': 'l1'})"
      ]
     },
     "execution_count": 22,
     "metadata": {},
     "output_type": "execute_result"
    }
   ],
   "source": [
    "# Gridsearch on logistic regression model above\n",
    "lr_params = {'penalty':['l1', 'l2'], \n",
    "             'C': [0.2, 0.3, 0.35, 0.5]}\n",
    "gs = GridSearchCV(LogisticRegression(), param_grid = lr_params)\n",
    "gs.fit(X_train, y_train)\n",
    "\n",
    "# Results \n",
    "gs.best_score_, gs.best_params_"
   ]
  },
  {
   "cell_type": "code",
   "execution_count": 23,
   "metadata": {},
   "outputs": [
    {
     "data": {
      "text/plain": [
       "0.8058310790501954"
      ]
     },
     "execution_count": 23,
     "metadata": {},
     "output_type": "execute_result"
    }
   ],
   "source": [
    "# Gridsearch test accuracy score\n",
    "gs.score(X_test, y_test)"
   ]
  },
  {
   "cell_type": "code",
   "execution_count": 24,
   "metadata": {},
   "outputs": [
    {
     "data": {
      "text/plain": [
       "0.80597113629169"
      ]
     },
     "execution_count": 24,
     "metadata": {},
     "output_type": "execute_result"
    }
   ],
   "source": [
    "# Evaluate gridsearched model with AUC-ROC score\n",
    "y_score = gs.predict(X_test)\n",
    "metrics.roc_auc_score(y_test, y_score)"
   ]
  },
  {
   "cell_type": "markdown",
   "metadata": {},
   "source": [
    "Gridsearching did not seem to improve the AUC-ROC score. Neither model was overfit. "
   ]
  },
  {
   "cell_type": "code",
   "execution_count": 25,
   "metadata": {},
   "outputs": [
    {
     "data": {
      "text/html": [
       "<div>\n",
       "<style scoped>\n",
       "    .dataframe tbody tr th:only-of-type {\n",
       "        vertical-align: middle;\n",
       "    }\n",
       "\n",
       "    .dataframe tbody tr th {\n",
       "        vertical-align: top;\n",
       "    }\n",
       "\n",
       "    .dataframe thead th {\n",
       "        text-align: right;\n",
       "    }\n",
       "</style>\n",
       "<table border=\"1\" class=\"dataframe\">\n",
       "  <thead>\n",
       "    <tr style=\"text-align: right;\">\n",
       "      <th></th>\n",
       "      <th>coef</th>\n",
       "    </tr>\n",
       "  </thead>\n",
       "  <tbody>\n",
       "    <tr>\n",
       "      <th>Month_8</th>\n",
       "      <td>2.280485</td>\n",
       "    </tr>\n",
       "    <tr>\n",
       "      <th>Year_2013</th>\n",
       "      <td>2.128367</td>\n",
       "    </tr>\n",
       "    <tr>\n",
       "      <th>Month_9</th>\n",
       "      <td>1.588101</td>\n",
       "    </tr>\n",
       "    <tr>\n",
       "      <th>Tavg</th>\n",
       "      <td>1.480107</td>\n",
       "    </tr>\n",
       "    <tr>\n",
       "      <th>Day</th>\n",
       "      <td>1.446884</td>\n",
       "    </tr>\n",
       "  </tbody>\n",
       "</table>\n",
       "</div>"
      ],
      "text/plain": [
       "               coef\n",
       "Month_8    2.280485\n",
       "Year_2013  2.128367\n",
       "Month_9    1.588101\n",
       "Tavg       1.480107\n",
       "Day        1.446884"
      ]
     },
     "execution_count": 25,
     "metadata": {},
     "output_type": "execute_result"
    }
   ],
   "source": [
    "# Determine top predictors in model \n",
    "coefs = pd.DataFrame(model_logreg.coef_[0], index = X.columns, columns = ['coef'])\n",
    "coefs['coef'] = np.exp(coefs['coef'])\n",
    "coefs.sort_values(by='coef', ascending = False, inplace=True)\n",
    "coefs.head()"
   ]
  },
  {
   "cell_type": "code",
   "execution_count": 29,
   "metadata": {},
   "outputs": [
    {
     "data": {
      "image/png": "[encoded data removed]",
      "text/plain": [
       "<matplotlib.figure.Figure at 0x1a18201710>"
      ]
     },
     "metadata": {
      "image/png": {
       "height": 332,
       "width": 363
      }
     },
     "output_type": "display_data"
    }
   ],
   "source": [
    "# ROC Plot \n",
    "y_probs = model_logreg.predict_proba(X_test)[:, 1]\n",
    "fpr, tpr, threshold = metrics.roc_curve(y_test, y_probs)\n",
    "\n",
    "fig = plt.figure(figsize = (5,5))\n",
    "plt.plot(fpr, tpr)\n",
    "\n",
    "# Labels\n",
    "plt.xlabel('Specificity')\n",
    "plt.ylabel('Sensitivity')\n",
    "plt.title('ROC curve');"
   ]
  },
  {
   "cell_type": "markdown",
   "metadata": {},
   "source": [
    "#### CNN"
   ]
  },
  {
   "cell_type": "code",
   "execution_count": 31,
   "metadata": {},
   "outputs": [],
   "source": [
    "# Train test split and standardize data\n",
    "X_train, X_test, y_train, y_test = train_test_split(X_res, y_res, random_state = 42)\n",
    "\n",
    "ss = StandardScaler()\n",
    "X_train = ss.fit_transform(X_train)\n",
    "X_test = ss.transform(X_test)"
   ]
  },
  {
   "cell_type": "code",
   "execution_count": 32,
   "metadata": {},
   "outputs": [],
   "source": [
    "# Reshape our NumPy array \n",
    "X_train = X_train.reshape(X_train.shape[0], X_train.shape[1], 1)\n",
    "X_test = X_test.reshape(X_test.shape[0], X_test.shape[1], 1)\n",
    "\n",
    "# Convert dtype from int to float\n",
    "X_train = X_train.astype('float32')\n",
    "X_test = X_test.astype('float32')"
   ]
  },
  {
   "cell_type": "code",
   "execution_count": 33,
   "metadata": {},
   "outputs": [],
   "source": [
    "# Preprocess Y data\n",
    "y_train = to_categorical(y_train, 2)\n",
    "Y_test = to_categorical(y_test, 2 )"
   ]
  },
  {
   "cell_type": "code",
   "execution_count": 34,
   "metadata": {},
   "outputs": [],
   "source": [
    "# Define Model Architecture\n",
    "model = Sequential()\n",
    "model.add(Convolution1D(filters=10, kernel_size=3, activation=\"relu\", input_shape = (25,1)))\n",
    "model.add(MaxPooling1D(pool_size = 2)) \n",
    "model.add(Convolution1D(filters=20, kernel_size=3, activation=\"relu\"))\n",
    "model.add(MaxPooling1D(pool_size = 2)) \n",
    "model.add(Convolution1D(filters=30, kernel_size=3, activation=\"relu\"))\n",
    "model.add(MaxPooling1D(pool_size = 2)) \n",
    "model.add(Dropout(0.25))\n",
    "model.add(Flatten())\n",
    "model.add(Dense(25, activation = 'relu')) \n",
    "model.add(Dropout(0.25))\n",
    "model.add(Dense(2, activation = 'sigmoid'))\n",
    "\n",
    "# Compile\n",
    "model.compile(loss = 'categorical_crossentropy', optimizer = 'adam', metrics = ['accuracy'])"
   ]
  },
  {
   "cell_type": "code",
   "execution_count": 35,
   "metadata": {},
   "outputs": [
    {
     "name": "stdout",
     "output_type": "stream",
     "text": [
      "Epoch 1/50\n",
      "9979/9979 [==============================] - 1s 127us/step - loss: 0.5002 - acc: 0.7441\n",
      "Epoch 2/50\n",
      "9979/9979 [==============================] - 1s 86us/step - loss: 0.3588 - acc: 0.8513\n",
      "Epoch 3/50\n",
      "9979/9979 [==============================] - 1s 97us/step - loss: 0.3098 - acc: 0.8774\n",
      "Epoch 4/50\n",
      "9979/9979 [==============================] - 1s 93us/step - loss: 0.2809 - acc: 0.8893\n",
      "Epoch 5/50\n",
      "9979/9979 [==============================] - 1s 96us/step - loss: 0.2532 - acc: 0.9062\n",
      "Epoch 6/50\n",
      "9979/9979 [==============================] - 1s 85us/step - loss: 0.2426 - acc: 0.9073\n",
      "Epoch 7/50\n",
      "9979/9979 [==============================] - 1s 81us/step - loss: 0.2266 - acc: 0.9141\n",
      "Epoch 8/50\n",
      "9979/9979 [==============================] - 1s 80us/step - loss: 0.2158 - acc: 0.9205\n",
      "Epoch 9/50\n",
      "9979/9979 [==============================] - 1s 81us/step - loss: 0.2135 - acc: 0.9170\n",
      "Epoch 10/50\n",
      "9979/9979 [==============================] - 1s 80us/step - loss: 0.2039 - acc: 0.9219\n",
      "Epoch 11/50\n",
      "9979/9979 [==============================] - 1s 80us/step - loss: 0.1980 - acc: 0.9254\n",
      "Epoch 12/50\n",
      "9979/9979 [==============================] - 1s 80us/step - loss: 0.1901 - acc: 0.9276\n",
      "Epoch 13/50\n",
      "9979/9979 [==============================] - 1s 80us/step - loss: 0.1859 - acc: 0.9287\n",
      "Epoch 14/50\n",
      "9979/9979 [==============================] - 1s 80us/step - loss: 0.1751 - acc: 0.9318\n",
      "Epoch 15/50\n",
      "9979/9979 [==============================] - 1s 80us/step - loss: 0.1761 - acc: 0.9304\n",
      "Epoch 16/50\n",
      "9979/9979 [==============================] - 1s 87us/step - loss: 0.1666 - acc: 0.9393\n",
      "Epoch 17/50\n",
      "9979/9979 [==============================] - 1s 83us/step - loss: 0.1644 - acc: 0.9398\n",
      "Epoch 18/50\n",
      "9979/9979 [==============================] - 1s 91us/step - loss: 0.1613 - acc: 0.9390\n",
      "Epoch 19/50\n",
      "9979/9979 [==============================] - 1s 85us/step - loss: 0.1580 - acc: 0.9406\n",
      "Epoch 20/50\n",
      "9979/9979 [==============================] - 1s 88us/step - loss: 0.1555 - acc: 0.9403\n",
      "Epoch 21/50\n",
      "9979/9979 [==============================] - 1s 92us/step - loss: 0.1568 - acc: 0.9396\n",
      "Epoch 22/50\n",
      "9979/9979 [==============================] - 1s 87us/step - loss: 0.1543 - acc: 0.9419\n",
      "Epoch 23/50\n",
      "9979/9979 [==============================] - 1s 91us/step - loss: 0.1478 - acc: 0.9459\n",
      "Epoch 24/50\n",
      "9979/9979 [==============================] - 1s 92us/step - loss: 0.1468 - acc: 0.9455\n",
      "Epoch 25/50\n",
      "9979/9979 [==============================] - 1s 91us/step - loss: 0.1463 - acc: 0.9451\n",
      "Epoch 26/50\n",
      "9979/9979 [==============================] - 1s 85us/step - loss: 0.1470 - acc: 0.9458\n",
      "Epoch 27/50\n",
      "9979/9979 [==============================] - 1s 83us/step - loss: 0.1413 - acc: 0.9464\n",
      "Epoch 28/50\n",
      "9979/9979 [==============================] - 1s 85us/step - loss: 0.1388 - acc: 0.9487\n",
      "Epoch 29/50\n",
      "9979/9979 [==============================] - 1s 83us/step - loss: 0.1295 - acc: 0.9525\n",
      "Epoch 30/50\n",
      "9979/9979 [==============================] - 1s 86us/step - loss: 0.1295 - acc: 0.9529\n",
      "Epoch 31/50\n",
      "9979/9979 [==============================] - 1s 84us/step - loss: 0.1339 - acc: 0.9522\n",
      "Epoch 32/50\n",
      "9979/9979 [==============================] - 1s 86us/step - loss: 0.1349 - acc: 0.9503\n",
      "Epoch 33/50\n",
      "9979/9979 [==============================] - 1s 91us/step - loss: 0.1308 - acc: 0.9522\n",
      "Epoch 34/50\n",
      "9979/9979 [==============================] - 1s 96us/step - loss: 0.1355 - acc: 0.9501\n",
      "Epoch 35/50\n",
      "9979/9979 [==============================] - 1s 99us/step - loss: 0.1294 - acc: 0.9505\n",
      "Epoch 36/50\n",
      "9979/9979 [==============================] - 1s 96us/step - loss: 0.1304 - acc: 0.9534\n",
      "Epoch 37/50\n",
      "9979/9979 [==============================] - 1s 91us/step - loss: 0.1232 - acc: 0.9544\n",
      "Epoch 38/50\n",
      "9979/9979 [==============================] - 1s 91us/step - loss: 0.1227 - acc: 0.9548\n",
      "Epoch 39/50\n",
      "9979/9979 [==============================] - 1s 86us/step - loss: 0.1200 - acc: 0.9547\n",
      "Epoch 40/50\n",
      "9979/9979 [==============================] - 1s 83us/step - loss: 0.1206 - acc: 0.9560\n",
      "Epoch 41/50\n",
      "9979/9979 [==============================] - 1s 88us/step - loss: 0.1228 - acc: 0.9531\n",
      "Epoch 42/50\n",
      "9979/9979 [==============================] - 1s 94us/step - loss: 0.1217 - acc: 0.9547\n",
      "Epoch 43/50\n",
      "9979/9979 [==============================] - 1s 91us/step - loss: 0.1194 - acc: 0.9552\n",
      "Epoch 44/50\n",
      "9979/9979 [==============================] - 1s 94us/step - loss: 0.1170 - acc: 0.9576\n",
      "Epoch 45/50\n",
      "9979/9979 [==============================] - 1s 83us/step - loss: 0.1190 - acc: 0.9567\n",
      "Epoch 46/50\n",
      "9979/9979 [==============================] - 1s 84us/step - loss: 0.1106 - acc: 0.9595\n",
      "Epoch 47/50\n",
      "9979/9979 [==============================] - 1s 86us/step - loss: 0.1112 - acc: 0.9609\n",
      "Epoch 48/50\n",
      "9979/9979 [==============================] - 1s 85us/step - loss: 0.1165 - acc: 0.9586\n",
      "Epoch 49/50\n",
      "9979/9979 [==============================] - 1s 87us/step - loss: 0.1160 - acc: 0.9550\n",
      "Epoch 50/50\n",
      "9979/9979 [==============================] - 1s 90us/step - loss: 0.1116 - acc: 0.9610\n"
     ]
    },
    {
     "data": {
      "text/plain": [
       "<keras.callbacks.History at 0x1a306990b8>"
      ]
     },
     "execution_count": 35,
     "metadata": {},
     "output_type": "execute_result"
    }
   ],
   "source": [
    "# Fit model with training data\n",
    "model.fit(X_train, y_train, batch_size = 32, epochs = 50, verbose = 1)"
   ]
  },
  {
   "cell_type": "code",
   "execution_count": 36,
   "metadata": {},
   "outputs": [
    {
     "name": "stdout",
     "output_type": "stream",
     "text": [
      "_________________________________________________________________\n",
      "Layer (type)                 Output Shape              Param #   \n",
      "=================================================================\n",
      "conv1d_1 (Conv1D)            (None, 23, 10)            40        \n",
      "_________________________________________________________________\n",
      "max_pooling1d_1 (MaxPooling1 (None, 11, 10)            0         \n",
      "_________________________________________________________________\n",
      "conv1d_2 (Conv1D)            (None, 9, 20)             620       \n",
      "_________________________________________________________________\n",
      "max_pooling1d_2 (MaxPooling1 (None, 4, 20)             0         \n",
      "_________________________________________________________________\n",
      "conv1d_3 (Conv1D)            (None, 2, 30)             1830      \n",
      "_________________________________________________________________\n",
      "max_pooling1d_3 (MaxPooling1 (None, 1, 30)             0         \n",
      "_________________________________________________________________\n",
      "dropout_1 (Dropout)          (None, 1, 30)             0         \n",
      "_________________________________________________________________\n",
      "flatten_1 (Flatten)          (None, 30)                0         \n",
      "_________________________________________________________________\n",
      "dense_1 (Dense)              (None, 25)                775       \n",
      "_________________________________________________________________\n",
      "dropout_2 (Dropout)          (None, 25)                0         \n",
      "_________________________________________________________________\n",
      "dense_2 (Dense)              (None, 2)                 52        \n",
      "=================================================================\n",
      "Total params: 3,317\n",
      "Trainable params: 3,317\n",
      "Non-trainable params: 0\n",
      "_________________________________________________________________\n"
     ]
    }
   ],
   "source": [
    "# CNN model summary \n",
    "model.summary()"
   ]
  },
  {
   "cell_type": "code",
   "execution_count": 37,
   "metadata": {},
   "outputs": [
    {
     "name": "stdout",
     "output_type": "stream",
     "text": [
      "3327/3327 [==============================] - 0s 62us/step\n",
      "loss: 0.13321888790448255\n",
      "acc: 0.955214908325819\n"
     ]
    }
   ],
   "source": [
    "# Score model on test data\n",
    "score = model.evaluate(X_test, Y_test, verbose = 1)\n",
    "labels = model.metrics_names\n",
    "print(str(labels[0]) + \": \" + str(score[0]))\n",
    "print(str(labels[1]) + \": \" + str(score[1]))"
   ]
  },
  {
   "cell_type": "code",
   "execution_count": 38,
   "metadata": {},
   "outputs": [
    {
     "data": {
      "text/plain": [
       "0.9897758104547103"
      ]
     },
     "execution_count": 38,
     "metadata": {},
     "output_type": "execute_result"
    }
   ],
   "source": [
    "# Evaluate model with AUC-ROC score\n",
    "y_score = model.predict(X_test)\n",
    "metrics.roc_auc_score(Y_test, y_score)"
   ]
  },
  {
   "cell_type": "code",
   "execution_count": 39,
   "metadata": {},
   "outputs": [
    {
     "data": {
      "image/png": "[encoded data removed]",
      "text/plain": [
       "<matplotlib.figure.Figure at 0x1a306990f0>"
      ]
     },
     "metadata": {
      "image/png": {
       "height": 332,
       "width": 363
      }
     },
     "output_type": "display_data"
    }
   ],
   "source": [
    "# AUC - ROC Plot \n",
    "y_probs = model.predict_proba(X_test)[:, 1]\n",
    "fpr, tpr, thresholds = metrics.roc_curve(y_test, y_probs)\n",
    "\n",
    "fig = plt.figure(figsize = (5,5))\n",
    "plt.plot(fpr, tpr)\n",
    "\n",
    "# Labels\n",
    "plt.xlabel('Specificity')\n",
    "plt.ylabel('Sensitivity')\n",
    "plt.title('ROC curve');"
   ]
  },
  {
   "cell_type": "code",
   "execution_count": null,
   "metadata": {},
   "outputs": [],
   "source": []
  }
 ],
 "metadata": {
  "kernelspec": {
   "display_name": "Python [conda env:anaconda3]",
   "language": "python",
   "name": "conda-env-anaconda3-py"
  },
  "language_info": {
   "codemirror_mode": {
    "name": "ipython",
    "version": 3
   },
   "file_extension": ".py",
   "mimetype": "text/x-python",
   "name": "python",
   "nbconvert_exporter": "python",
   "pygments_lexer": "ipython3",
   "version": "3.6.4"
  }
 },
 "nbformat": 4,
 "nbformat_minor": 2
}
